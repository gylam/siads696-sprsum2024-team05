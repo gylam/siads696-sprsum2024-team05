{
  "cells": [
    {
      "cell_type": "markdown",
      "metadata": {
        "id": "view-in-github",
        "colab_type": "text"
      },
      "source": [
        "<a href=\"https://colab.research.google.com/github/gylam/siads696-sprsum2024-team05/blob/main/RW_Themes_data_manipulation.ipynb\" target=\"_parent\"><img src=\"https://colab.research.google.com/assets/colab-badge.svg\" alt=\"Open In Colab\"/></a>"
      ]
    },
    {
      "cell_type": "code",
      "execution_count": null,
      "metadata": {
        "id": "pjeZUf5ncgSY"
      },
      "outputs": [],
      "source": [
        "import pandas as pd\n",
        "from collections import Counter"
      ]
    },
    {
      "cell_type": "markdown",
      "metadata": {
        "id": "5t9TspKtcgSa"
      },
      "source": [
        "#### Read in data"
      ]
    },
    {
      "cell_type": "code",
      "execution_count": null,
      "metadata": {
        "id": "3pTe5iWncgSb",
        "outputId": "c30f352a-de89-47d3-8d28-38afb6449a43"
      },
      "outputs": [
        {
          "ename": "FileNotFoundError",
          "evalue": "[Errno 2] No such file or directory: '..\\\\data\\\\gl_full_pickle'",
          "output_type": "error",
          "traceback": [
            "\u001b[1;31m---------------------------------------------------------------------------\u001b[0m",
            "\u001b[1;31mFileNotFoundError\u001b[0m                         Traceback (most recent call last)",
            "Input \u001b[1;32mIn [149]\u001b[0m, in \u001b[0;36m<cell line: 2>\u001b[1;34m()\u001b[0m\n\u001b[0;32m      1\u001b[0m data_path \u001b[38;5;241m=\u001b[39m \u001b[38;5;124m'\u001b[39m\u001b[38;5;124m..\u001b[39m\u001b[38;5;124m\\\u001b[39m\u001b[38;5;124mdata\u001b[39m\u001b[38;5;124m\\\u001b[39m\u001b[38;5;124mgl_full_pickle\u001b[39m\u001b[38;5;124m'\u001b[39m \u001b[38;5;66;03m#RW_UN_themes_data_pickle' #explode themes if not on indivdual rows\u001b[39;00m\n\u001b[1;32m----> 2\u001b[0m df_raw \u001b[38;5;241m=\u001b[39m \u001b[43mpd\u001b[49m\u001b[38;5;241;43m.\u001b[39;49m\u001b[43mread_pickle\u001b[49m\u001b[43m(\u001b[49m\u001b[43mdata_path\u001b[49m\u001b[43m)\u001b[49m\n\u001b[0;32m      3\u001b[0m \u001b[38;5;28mprint\u001b[39m(df_raw\u001b[38;5;241m.\u001b[39mshape)\n",
            "File \u001b[1;32m~\\AppData\\Local\\Packages\\PythonSoftwareFoundation.Python.3.10_qbz5n2kfra8p0\\LocalCache\\local-packages\\Python310\\site-packages\\pandas\\io\\pickle.py:179\u001b[0m, in \u001b[0;36mread_pickle\u001b[1;34m(filepath_or_buffer, compression, storage_options)\u001b[0m\n\u001b[0;32m    115\u001b[0m \u001b[38;5;250m\u001b[39m\u001b[38;5;124;03m\"\"\"\u001b[39;00m\n\u001b[0;32m    116\u001b[0m \u001b[38;5;124;03mLoad pickled pandas object (or any object) from file.\u001b[39;00m\n\u001b[0;32m    117\u001b[0m \n\u001b[1;32m   (...)\u001b[0m\n\u001b[0;32m    176\u001b[0m \u001b[38;5;124;03m4    4    9\u001b[39;00m\n\u001b[0;32m    177\u001b[0m \u001b[38;5;124;03m\"\"\"\u001b[39;00m\n\u001b[0;32m    178\u001b[0m excs_to_catch \u001b[38;5;241m=\u001b[39m (\u001b[38;5;167;01mAttributeError\u001b[39;00m, \u001b[38;5;167;01mImportError\u001b[39;00m, \u001b[38;5;167;01mModuleNotFoundError\u001b[39;00m, \u001b[38;5;167;01mTypeError\u001b[39;00m)\n\u001b[1;32m--> 179\u001b[0m \u001b[38;5;28;01mwith\u001b[39;00m \u001b[43mget_handle\u001b[49m\u001b[43m(\u001b[49m\n\u001b[0;32m    180\u001b[0m \u001b[43m    \u001b[49m\u001b[43mfilepath_or_buffer\u001b[49m\u001b[43m,\u001b[49m\n\u001b[0;32m    181\u001b[0m \u001b[43m    \u001b[49m\u001b[38;5;124;43m\"\u001b[39;49m\u001b[38;5;124;43mrb\u001b[39;49m\u001b[38;5;124;43m\"\u001b[39;49m\u001b[43m,\u001b[49m\n\u001b[0;32m    182\u001b[0m \u001b[43m    \u001b[49m\u001b[43mcompression\u001b[49m\u001b[38;5;241;43m=\u001b[39;49m\u001b[43mcompression\u001b[49m\u001b[43m,\u001b[49m\n\u001b[0;32m    183\u001b[0m \u001b[43m    \u001b[49m\u001b[43mis_text\u001b[49m\u001b[38;5;241;43m=\u001b[39;49m\u001b[38;5;28;43;01mFalse\u001b[39;49;00m\u001b[43m,\u001b[49m\n\u001b[0;32m    184\u001b[0m \u001b[43m    \u001b[49m\u001b[43mstorage_options\u001b[49m\u001b[38;5;241;43m=\u001b[39;49m\u001b[43mstorage_options\u001b[49m\u001b[43m,\u001b[49m\n\u001b[0;32m    185\u001b[0m \u001b[43m\u001b[49m\u001b[43m)\u001b[49m \u001b[38;5;28;01mas\u001b[39;00m handles:\n\u001b[0;32m    186\u001b[0m     \u001b[38;5;66;03m# 1) try standard library Pickle\u001b[39;00m\n\u001b[0;32m    187\u001b[0m     \u001b[38;5;66;03m# 2) try pickle_compat (older pandas version) to handle subclass changes\u001b[39;00m\n\u001b[0;32m    188\u001b[0m     \u001b[38;5;66;03m# 3) try pickle_compat with latin-1 encoding upon a UnicodeDecodeError\u001b[39;00m\n\u001b[0;32m    190\u001b[0m     \u001b[38;5;28;01mtry\u001b[39;00m:\n\u001b[0;32m    191\u001b[0m         \u001b[38;5;66;03m# TypeError for Cython complaints about object.__new__ vs Tick.__new__\u001b[39;00m\n\u001b[0;32m    192\u001b[0m         \u001b[38;5;28;01mtry\u001b[39;00m:\n",
            "File \u001b[1;32m~\\AppData\\Local\\Packages\\PythonSoftwareFoundation.Python.3.10_qbz5n2kfra8p0\\LocalCache\\local-packages\\Python310\\site-packages\\pandas\\io\\common.py:868\u001b[0m, in \u001b[0;36mget_handle\u001b[1;34m(path_or_buf, mode, encoding, compression, memory_map, is_text, errors, storage_options)\u001b[0m\n\u001b[0;32m    859\u001b[0m         handle \u001b[38;5;241m=\u001b[39m \u001b[38;5;28mopen\u001b[39m(\n\u001b[0;32m    860\u001b[0m             handle,\n\u001b[0;32m    861\u001b[0m             ioargs\u001b[38;5;241m.\u001b[39mmode,\n\u001b[1;32m   (...)\u001b[0m\n\u001b[0;32m    864\u001b[0m             newline\u001b[38;5;241m=\u001b[39m\u001b[38;5;124m\"\u001b[39m\u001b[38;5;124m\"\u001b[39m,\n\u001b[0;32m    865\u001b[0m         )\n\u001b[0;32m    866\u001b[0m     \u001b[38;5;28;01melse\u001b[39;00m:\n\u001b[0;32m    867\u001b[0m         \u001b[38;5;66;03m# Binary mode\u001b[39;00m\n\u001b[1;32m--> 868\u001b[0m         handle \u001b[38;5;241m=\u001b[39m \u001b[38;5;28;43mopen\u001b[39;49m\u001b[43m(\u001b[49m\u001b[43mhandle\u001b[49m\u001b[43m,\u001b[49m\u001b[43m \u001b[49m\u001b[43mioargs\u001b[49m\u001b[38;5;241;43m.\u001b[39;49m\u001b[43mmode\u001b[49m\u001b[43m)\u001b[49m\n\u001b[0;32m    869\u001b[0m     handles\u001b[38;5;241m.\u001b[39mappend(handle)\n\u001b[0;32m    871\u001b[0m \u001b[38;5;66;03m# Convert BytesIO or file objects passed with an encoding\u001b[39;00m\n",
            "\u001b[1;31mFileNotFoundError\u001b[0m: [Errno 2] No such file or directory: '..\\\\data\\\\gl_full_pickle'"
          ]
        }
      ],
      "source": [
        "data_path = '..\\data\\gl_full_pickle' #RW_UN_themes_data_pickle' #explode themes if not on indivdual rows\n",
        "df_raw = pd.read_pickle(data_path)\n",
        "print(df_raw.shape)\n"
      ]
    },
    {
      "cell_type": "markdown",
      "metadata": {
        "id": "Wm_-18GmcgSc"
      },
      "source": [
        "#### Drop unwanted report formats"
      ]
    },
    {
      "cell_type": "code",
      "execution_count": null,
      "metadata": {
        "id": "wSuEL1bccgSc",
        "outputId": "35a727a4-470d-46e6-a30c-396f1f55d59c"
      },
      "outputs": [
        {
          "name": "stdout",
          "output_type": "stream",
          "text": [
            "(1061984, 14)\n"
          ]
        }
      ],
      "source": [
        "#drop unwanted report formats\n",
        "df_raw = df_raw[~df_raw['format'].isin(['Infographic', 'Map','Interactive'])]\n",
        "print(df_raw.shape)"
      ]
    },
    {
      "cell_type": "markdown",
      "metadata": {
        "id": "WLncWzLVcgSd"
      },
      "source": [
        "#### Filter df by text_len"
      ]
    },
    {
      "cell_type": "code",
      "execution_count": null,
      "metadata": {
        "id": "HLctzuIjcgSd",
        "outputId": "f8634e7a-e66c-41e3-c317-cb6714692ea1"
      },
      "outputs": [
        {
          "data": {
            "text/plain": [
              "(1060057, 15)"
            ]
          },
          "execution_count": 139,
          "metadata": {},
          "output_type": "execute_result"
        }
      ],
      "source": [
        "#remove reports with less than text len < 100\n",
        "df_raw['len_text'] = df_raw['text'].str.len() #apply lambda to count words only\n",
        "df_raw = df_raw[df_raw['len_text']>100]\n",
        "df_raw.shape"
      ]
    },
    {
      "cell_type": "markdown",
      "metadata": {
        "id": "Mr05Q4eWcgSd"
      },
      "source": [
        "#### Reduce df and select fields needed"
      ]
    },
    {
      "cell_type": "code",
      "execution_count": null,
      "metadata": {
        "id": "6eKlzswucgSd"
      },
      "outputs": [],
      "source": [
        "# keep only text and theme_name columns\n",
        "df = df_raw[['report_id', 'text', 'theme_name']]"
      ]
    },
    {
      "cell_type": "code",
      "execution_count": null,
      "metadata": {
        "id": "qjA4dbG6cgSd",
        "outputId": "a97ab98e-5ee0-48d7-e38a-6c942ea4b330"
      },
      "outputs": [
        {
          "name": "stdout",
          "output_type": "stream",
          "text": [
            "Shape of the Dataframe (multiple rows per unique report) = 1060057 rows and 3 columns\n",
            "Number of unique ReliefWeb reports retrieved = 428424\n"
          ]
        }
      ],
      "source": [
        "#checking df shape and number of reports represented\n",
        "df_shape = df.shape\n",
        "print(f'Shape of the Dataframe (multiple rows per unique report) = {df_shape[0]} rows and {df_shape[1]} columns')\n",
        "report_number = len(df['report_id'].unique())\n",
        "print(f'Number of unique ReliefWeb reports retrieved = {report_number}')\n"
      ]
    },
    {
      "cell_type": "code",
      "execution_count": null,
      "metadata": {
        "id": "Hht4EqCZcgSe",
        "outputId": "a13c4db9-5133-46ec-9ba9-8e24debdb5b7"
      },
      "outputs": [
        {
          "data": {
            "text/plain": [
              "theme_name\n",
              "1     180197\n",
              "2     110165\n",
              "3      47669\n",
              "4      29552\n",
              "5      20376\n",
              "6      14891\n",
              "7      10805\n",
              "8       7180\n",
              "9       3996\n",
              "10      2172\n",
              "11       910\n",
              "12       364\n",
              "13       108\n",
              "14        37\n",
              "15         2\n",
              "Name: count, dtype: int64"
            ]
          },
          "execution_count": 147,
          "metadata": {},
          "output_type": "execute_result"
        }
      ],
      "source": [
        "#How many themes/labels per report\n",
        "df_theme_counts = df.groupby(['report_id'])['theme_name'].size().reset_index().sort_values(by = 'theme_name', ascending = False)\n",
        "df_theme_counts['theme_name'].value_counts()\n",
        "\n",
        "## should we exclude docs with more than 3 labels? USe only docs with 1 label. Try multiclass\n"
      ]
    },
    {
      "cell_type": "code",
      "execution_count": null,
      "metadata": {
        "id": "Aq6xvxFicgSe",
        "outputId": "4876e6d1-5734-4cac-d056-ab2f7ba1a0bd"
      },
      "outputs": [
        {
          "data": {
            "text/html": [
              "<div>\n",
              "<style scoped>\n",
              "    .dataframe tbody tr th:only-of-type {\n",
              "        vertical-align: middle;\n",
              "    }\n",
              "\n",
              "    .dataframe tbody tr th {\n",
              "        vertical-align: top;\n",
              "    }\n",
              "\n",
              "    .dataframe thead th {\n",
              "        text-align: right;\n",
              "    }\n",
              "</style>\n",
              "<table border=\"1\" class=\"dataframe\">\n",
              "  <thead>\n",
              "    <tr style=\"text-align: right;\">\n",
              "      <th></th>\n",
              "      <th>report_id</th>\n",
              "      <th>theme_name</th>\n",
              "    </tr>\n",
              "  </thead>\n",
              "  <tbody>\n",
              "    <tr>\n",
              "      <th>130736</th>\n",
              "      <td>523929</td>\n",
              "      <td>1</td>\n",
              "    </tr>\n",
              "    <tr>\n",
              "      <th>284843</th>\n",
              "      <td>2820999</td>\n",
              "      <td>1</td>\n",
              "    </tr>\n",
              "    <tr>\n",
              "      <th>130729</th>\n",
              "      <td>523915</td>\n",
              "      <td>1</td>\n",
              "    </tr>\n",
              "    <tr>\n",
              "      <th>130726</th>\n",
              "      <td>523905</td>\n",
              "      <td>1</td>\n",
              "    </tr>\n",
              "    <tr>\n",
              "      <th>0</th>\n",
              "      <td>18248</td>\n",
              "      <td>1</td>\n",
              "    </tr>\n",
              "  </tbody>\n",
              "</table>\n",
              "</div>"
            ],
            "text/plain": [
              "        report_id  theme_name\n",
              "130736     523929           1\n",
              "284843    2820999           1\n",
              "130729     523915           1\n",
              "130726     523905           1\n",
              "0           18248           1"
            ]
          },
          "execution_count": 144,
          "metadata": {},
          "output_type": "execute_result"
        }
      ],
      "source": [
        "df_theme_counts.tail(5)"
      ]
    },
    {
      "cell_type": "code",
      "execution_count": null,
      "metadata": {
        "id": "4c-AKTZ8cgSe",
        "outputId": "15beb093-6a34-495e-faa1-80d9780de8a2"
      },
      "outputs": [
        {
          "name": "stdout",
          "output_type": "stream",
          "text": [
            "There are 20 Themes represented in this dataset.\n",
            "They are: \n",
            "['Agriculture', 'Camp Coordination and Camp Management', 'Coordination', 'Shelter and Non-Food Items', 'Climate Change and Environment', 'Education', 'Food and Nutrition', 'Gender', 'Health', 'HIV/Aids', 'Protection and Human Rights', 'Water Sanitation Hygiene', 'Recovery and Reconstruction', 'Peacekeeping and Peacebuilding', 'Contributions', 'Logistics and Telecommunications', 'Mine Action', 'Disaster Management', 'Safety and Security', 'Humanitarian Financing']\n",
            "\n",
            "\n",
            "Counts of each unique \"theme\" in this dataset:\n",
            "[('Protection and Human Rights', 170312), ('Health', 160698), ('Food and Nutrition', 137934), ('Water Sanitation Hygiene', 96650), ('Shelter and Non-Food Items', 90556), ('Agriculture', 65471), ('Education', 58370), ('Contributions', 53546), ('Coordination', 50489), ('Recovery and Reconstruction', 47706), ('Peacekeeping and Peacebuilding', 30105), ('Logistics and Telecommunications', 23472), ('Disaster Management', 18654), ('Safety and Security', 17564), ('Mine Action', 10195), ('Climate Change and Environment', 7565), ('Camp Coordination and Camp Management', 7426), ('Gender', 6577), ('HIV/Aids', 4689), ('Humanitarian Financing', 2078)]\n"
          ]
        }
      ],
      "source": [
        "#printing counts\n",
        "\n",
        "def df_theme_counts(df, theme_cols):\n",
        "    #Count of unique themes\n",
        "    #Creating a Counter class object using list as an iterable data container\n",
        "    theme_names = df[theme_cols]\n",
        "    theme_counts = Counter(theme_names)\n",
        "\n",
        "    print(f'There are {len(theme_counts.keys())} Themes represented in this dataset.\\nThey are: \\n{list((theme_counts.keys()))}')\n",
        "    print(f'\\n')\n",
        "    print(f'Counts of each unique \"theme\" in this dataset:\\n{sorted(dict(theme_counts).items(), key = lambda x:x[1], reverse=True)}')\n",
        "\n",
        "df_theme_counts(df, 'theme_name')\n"
      ]
    },
    {
      "cell_type": "markdown",
      "metadata": {
        "id": "2AKadZdbcgSe"
      },
      "source": [
        "#### Balance the dataset"
      ]
    },
    {
      "cell_type": "code",
      "execution_count": null,
      "metadata": {
        "id": "HngJs41GcgSe",
        "outputId": "53216362-5d1a-4079-ec0b-4442a4f51d11"
      },
      "outputs": [
        {
          "data": {
            "text/plain": [
              "(114767, 3)"
            ]
          },
          "execution_count": 130,
          "metadata": {},
          "output_type": "execute_result"
        }
      ],
      "source": [
        "#Theme List\n",
        "theme_list= list(df['theme_name'].unique())\n",
        "\n",
        "def balance_dataset(df, documents_per_label):\n",
        "  df_balanced = pd.DataFrame(columns = list(df.columns))\n",
        "\n",
        "  for theme in theme_list:\n",
        "    try:\n",
        "      df_theme = df[df['theme_name'] == theme].sample(documents_per_label)\n",
        "    except:\n",
        "      df_theme = df[df['theme_name'] == theme]\n",
        "    df_balanced = pd.concat([df_balanced, df_theme])\n",
        "  return df_balanced\n",
        "\n",
        "df_balanced= balance_dataset(df, 6000)\n",
        "df_balanced.shape"
      ]
    },
    {
      "cell_type": "code",
      "execution_count": null,
      "metadata": {
        "id": "FTTMoi3ncgSf",
        "outputId": "b4fe506c-e0bc-41b3-d4d7-50201162ab95"
      },
      "outputs": [
        {
          "name": "stdout",
          "output_type": "stream",
          "text": [
            "There are 20 Themes represented in this dataset.\n",
            "They are: \n",
            "['Agriculture', 'Camp Coordination and Camp Management', 'Coordination', 'Shelter and Non-Food Items', 'Climate Change and Environment', 'Education', 'Food and Nutrition', 'Gender', 'Health', 'HIV/Aids', 'Protection and Human Rights', 'Water Sanitation Hygiene', 'Recovery and Reconstruction', 'Peacekeeping and Peacebuilding', 'Contributions', 'Logistics and Telecommunications', 'Mine Action', 'Disaster Management', 'Safety and Security', 'Humanitarian Financing']\n",
            "\n",
            "\n",
            "Counts of each unique \"theme\" in this dataset:\n",
            "[('Agriculture', 6000), ('Camp Coordination and Camp Management', 6000), ('Coordination', 6000), ('Shelter and Non-Food Items', 6000), ('Climate Change and Environment', 6000), ('Education', 6000), ('Food and Nutrition', 6000), ('Gender', 6000), ('Health', 6000), ('Protection and Human Rights', 6000), ('Water Sanitation Hygiene', 6000), ('Recovery and Reconstruction', 6000), ('Peacekeeping and Peacebuilding', 6000), ('Contributions', 6000), ('Logistics and Telecommunications', 6000), ('Mine Action', 6000), ('Disaster Management', 6000), ('Safety and Security', 6000), ('HIV/Aids', 4689), ('Humanitarian Financing', 2078)]\n"
          ]
        }
      ],
      "source": [
        "df_theme_counts(df_balanced, 'theme_name')"
      ]
    },
    {
      "cell_type": "markdown",
      "metadata": {
        "id": "ezFIDxVjcgSf"
      },
      "source": [
        "#### One Hot Encoding"
      ]
    },
    {
      "cell_type": "code",
      "execution_count": null,
      "metadata": {
        "id": "frIxuuH2cgSf",
        "outputId": "f62d222b-4419-4705-da84-ca0a79dc8f03"
      },
      "outputs": [
        {
          "name": "stdout",
          "output_type": "stream",
          "text": [
            "(114767, 22)\n",
            "(97699, 22)\n"
          ]
        },
        {
          "data": {
            "text/html": [
              "<div>\n",
              "<style scoped>\n",
              "    .dataframe tbody tr th:only-of-type {\n",
              "        vertical-align: middle;\n",
              "    }\n",
              "\n",
              "    .dataframe tbody tr th {\n",
              "        vertical-align: top;\n",
              "    }\n",
              "\n",
              "    .dataframe thead th {\n",
              "        text-align: right;\n",
              "    }\n",
              "</style>\n",
              "<table border=\"1\" class=\"dataframe\">\n",
              "  <thead>\n",
              "    <tr style=\"text-align: right;\">\n",
              "      <th></th>\n",
              "      <th>report_id</th>\n",
              "      <th>text</th>\n",
              "      <th>Agriculture</th>\n",
              "      <th>Camp Coordination and Camp Management</th>\n",
              "      <th>Coordination</th>\n",
              "      <th>Shelter and Non-Food Items</th>\n",
              "      <th>Climate Change and Environment</th>\n",
              "      <th>Education</th>\n",
              "      <th>Food and Nutrition</th>\n",
              "      <th>Gender</th>\n",
              "      <th>...</th>\n",
              "      <th>Protection and Human Rights</th>\n",
              "      <th>Water Sanitation Hygiene</th>\n",
              "      <th>Recovery and Reconstruction</th>\n",
              "      <th>Peacekeeping and Peacebuilding</th>\n",
              "      <th>Contributions</th>\n",
              "      <th>Logistics and Telecommunications</th>\n",
              "      <th>Mine Action</th>\n",
              "      <th>Disaster Management</th>\n",
              "      <th>Safety and Security</th>\n",
              "      <th>Humanitarian Financing</th>\n",
              "    </tr>\n",
              "  </thead>\n",
              "  <tbody>\n",
              "    <tr>\n",
              "      <th>0</th>\n",
              "      <td>18248</td>\n",
              "      <td>**Flood Outlook**\\n\\n- The Brahmaputra-Jamuna ...</td>\n",
              "      <td>0</td>\n",
              "      <td>0</td>\n",
              "      <td>0</td>\n",
              "      <td>0</td>\n",
              "      <td>0</td>\n",
              "      <td>0</td>\n",
              "      <td>0</td>\n",
              "      <td>0</td>\n",
              "      <td>...</td>\n",
              "      <td>0</td>\n",
              "      <td>0</td>\n",
              "      <td>0</td>\n",
              "      <td>0</td>\n",
              "      <td>0</td>\n",
              "      <td>0</td>\n",
              "      <td>0</td>\n",
              "      <td>1</td>\n",
              "      <td>0</td>\n",
              "      <td>0</td>\n",
              "    </tr>\n",
              "    <tr>\n",
              "      <th>1</th>\n",
              "      <td>21561</td>\n",
              "      <td>&lt;font size=1 face=\"Arial\"&gt;Exploring the Tajiki...</td>\n",
              "      <td>0</td>\n",
              "      <td>0</td>\n",
              "      <td>0</td>\n",
              "      <td>0</td>\n",
              "      <td>0</td>\n",
              "      <td>0</td>\n",
              "      <td>0</td>\n",
              "      <td>0</td>\n",
              "      <td>...</td>\n",
              "      <td>0</td>\n",
              "      <td>0</td>\n",
              "      <td>0</td>\n",
              "      <td>0</td>\n",
              "      <td>0</td>\n",
              "      <td>0</td>\n",
              "      <td>0</td>\n",
              "      <td>0</td>\n",
              "      <td>1</td>\n",
              "      <td>0</td>\n",
              "    </tr>\n",
              "  </tbody>\n",
              "</table>\n",
              "<p>2 rows × 22 columns</p>\n",
              "</div>"
            ],
            "text/plain": [
              "   report_id                                               text  Agriculture   \n",
              "0      18248  **Flood Outlook**\\n\\n- The Brahmaputra-Jamuna ...            0  \\\n",
              "1      21561  <font size=1 face=\"Arial\">Exploring the Tajiki...            0   \n",
              "\n",
              "   Camp Coordination and Camp Management  Coordination   \n",
              "0                                      0             0  \\\n",
              "1                                      0             0   \n",
              "\n",
              "   Shelter and Non-Food Items  Climate Change and Environment  Education   \n",
              "0                           0                               0          0  \\\n",
              "1                           0                               0          0   \n",
              "\n",
              "   Food and Nutrition  Gender  ...  Protection and Human Rights   \n",
              "0                   0       0  ...                            0  \\\n",
              "1                   0       0  ...                            0   \n",
              "\n",
              "   Water Sanitation Hygiene  Recovery and Reconstruction   \n",
              "0                         0                            0  \\\n",
              "1                         0                            0   \n",
              "\n",
              "   Peacekeeping and Peacebuilding  Contributions   \n",
              "0                               0              0  \\\n",
              "1                               0              0   \n",
              "\n",
              "   Logistics and Telecommunications  Mine Action  Disaster Management   \n",
              "0                                 0            0                    1  \\\n",
              "1                                 0            0                    0   \n",
              "\n",
              "   Safety and Security  Humanitarian Financing  \n",
              "0                    0                       0  \n",
              "1                    1                       0  \n",
              "\n",
              "[2 rows x 22 columns]"
            ]
          },
          "execution_count": 132,
          "metadata": {},
          "output_type": "execute_result"
        }
      ],
      "source": [
        "#One hot encode df\n",
        "one_hot_encoded_data = pd.get_dummies(df_balanced, columns = ['theme_name'], dtype=int )\n",
        "one_hot_encoded_data=one_hot_encoded_data.rename(columns={'report_id': 'theme_name_report_id',\n",
        "                                                          'text': 'theme_name_text' })\n",
        "one_hot_encoded_data = one_hot_encoded_data.rename(columns=lambda x: x[11:])\n",
        "print(one_hot_encoded_data.shape)\n",
        "one_hot_encoded_data.head(2)\n",
        "\n",
        "#Keeps single row for unique report_id\n",
        "one_hot_encoded_data = one_hot_encoded_data.groupby(['report_id', 'text'])[theme_list].max().reset_index()\n",
        "print(one_hot_encoded_data.shape)\n",
        "one_hot_encoded_data.head(2)"
      ]
    },
    {
      "cell_type": "code",
      "execution_count": null,
      "metadata": {
        "id": "baE4Dd13cgSf",
        "outputId": "c28cdd11-eee3-4aee-b423-f1e5a0da3b8e"
      },
      "outputs": [
        {
          "data": {
            "text/html": [
              "<div>\n",
              "<style scoped>\n",
              "    .dataframe tbody tr th:only-of-type {\n",
              "        vertical-align: middle;\n",
              "    }\n",
              "\n",
              "    .dataframe tbody tr th {\n",
              "        vertical-align: top;\n",
              "    }\n",
              "\n",
              "    .dataframe thead th {\n",
              "        text-align: right;\n",
              "    }\n",
              "</style>\n",
              "<table border=\"1\" class=\"dataframe\">\n",
              "  <thead>\n",
              "    <tr style=\"text-align: right;\">\n",
              "      <th></th>\n",
              "      <th>theme</th>\n",
              "      <th>counts</th>\n",
              "    </tr>\n",
              "  </thead>\n",
              "  <tbody>\n",
              "    <tr>\n",
              "      <th>0</th>\n",
              "      <td>Agriculture</td>\n",
              "      <td>6000</td>\n",
              "    </tr>\n",
              "    <tr>\n",
              "      <th>1</th>\n",
              "      <td>Camp Coordination and Camp Management</td>\n",
              "      <td>6000</td>\n",
              "    </tr>\n",
              "    <tr>\n",
              "      <th>18</th>\n",
              "      <td>Safety and Security</td>\n",
              "      <td>6000</td>\n",
              "    </tr>\n",
              "    <tr>\n",
              "      <th>17</th>\n",
              "      <td>Disaster Management</td>\n",
              "      <td>6000</td>\n",
              "    </tr>\n",
              "    <tr>\n",
              "      <th>16</th>\n",
              "      <td>Mine Action</td>\n",
              "      <td>6000</td>\n",
              "    </tr>\n",
              "    <tr>\n",
              "      <th>15</th>\n",
              "      <td>Logistics and Telecommunications</td>\n",
              "      <td>6000</td>\n",
              "    </tr>\n",
              "    <tr>\n",
              "      <th>14</th>\n",
              "      <td>Contributions</td>\n",
              "      <td>6000</td>\n",
              "    </tr>\n",
              "    <tr>\n",
              "      <th>13</th>\n",
              "      <td>Peacekeeping and Peacebuilding</td>\n",
              "      <td>6000</td>\n",
              "    </tr>\n",
              "    <tr>\n",
              "      <th>12</th>\n",
              "      <td>Recovery and Reconstruction</td>\n",
              "      <td>6000</td>\n",
              "    </tr>\n",
              "    <tr>\n",
              "      <th>11</th>\n",
              "      <td>Water Sanitation Hygiene</td>\n",
              "      <td>6000</td>\n",
              "    </tr>\n",
              "    <tr>\n",
              "      <th>10</th>\n",
              "      <td>Protection and Human Rights</td>\n",
              "      <td>6000</td>\n",
              "    </tr>\n",
              "    <tr>\n",
              "      <th>8</th>\n",
              "      <td>Health</td>\n",
              "      <td>6000</td>\n",
              "    </tr>\n",
              "    <tr>\n",
              "      <th>7</th>\n",
              "      <td>Gender</td>\n",
              "      <td>6000</td>\n",
              "    </tr>\n",
              "    <tr>\n",
              "      <th>6</th>\n",
              "      <td>Food and Nutrition</td>\n",
              "      <td>6000</td>\n",
              "    </tr>\n",
              "    <tr>\n",
              "      <th>5</th>\n",
              "      <td>Education</td>\n",
              "      <td>6000</td>\n",
              "    </tr>\n",
              "    <tr>\n",
              "      <th>4</th>\n",
              "      <td>Climate Change and Environment</td>\n",
              "      <td>6000</td>\n",
              "    </tr>\n",
              "    <tr>\n",
              "      <th>3</th>\n",
              "      <td>Shelter and Non-Food Items</td>\n",
              "      <td>6000</td>\n",
              "    </tr>\n",
              "    <tr>\n",
              "      <th>2</th>\n",
              "      <td>Coordination</td>\n",
              "      <td>6000</td>\n",
              "    </tr>\n",
              "    <tr>\n",
              "      <th>9</th>\n",
              "      <td>HIV/Aids</td>\n",
              "      <td>4689</td>\n",
              "    </tr>\n",
              "    <tr>\n",
              "      <th>19</th>\n",
              "      <td>Humanitarian Financing</td>\n",
              "      <td>2078</td>\n",
              "    </tr>\n",
              "  </tbody>\n",
              "</table>\n",
              "</div>"
            ],
            "text/plain": [
              "                                    theme  counts\n",
              "0                             Agriculture    6000\n",
              "1   Camp Coordination and Camp Management    6000\n",
              "18                    Safety and Security    6000\n",
              "17                    Disaster Management    6000\n",
              "16                            Mine Action    6000\n",
              "15       Logistics and Telecommunications    6000\n",
              "14                          Contributions    6000\n",
              "13         Peacekeeping and Peacebuilding    6000\n",
              "12            Recovery and Reconstruction    6000\n",
              "11               Water Sanitation Hygiene    6000\n",
              "10            Protection and Human Rights    6000\n",
              "8                                  Health    6000\n",
              "7                                  Gender    6000\n",
              "6                      Food and Nutrition    6000\n",
              "5                               Education    6000\n",
              "4          Climate Change and Environment    6000\n",
              "3              Shelter and Non-Food Items    6000\n",
              "2                            Coordination    6000\n",
              "9                                HIV/Aids    4689\n",
              "19                 Humanitarian Financing    2078"
            ]
          },
          "execution_count": 134,
          "metadata": {},
          "output_type": "execute_result"
        }
      ],
      "source": [
        "#checking the balance in the themes\n",
        "one_hot_theme_count = one_hot_encoded_data[one_hot_encoded_data.columns[2:]].sum().reset_index()\n",
        "one_hot_theme_count = one_hot_theme_count.rename(columns={'index':'theme', 0:'counts'})\n",
        "one_hot_theme_count.sort_values(by = 'counts', ascending = False)"
      ]
    },
    {
      "cell_type": "markdown",
      "metadata": {
        "id": "jwsgwlUqcgSf"
      },
      "source": [
        "#### Save balanced and one hot encoded df to csv"
      ]
    },
    {
      "cell_type": "code",
      "execution_count": null,
      "metadata": {
        "id": "q_G_nfwfcgSf"
      },
      "outputs": [],
      "source": [
        "one_hot_encoded_data.to_csv(r'../data/rw_themes_balanced_df.csv')"
      ]
    }
  ],
  "metadata": {
    "kernelspec": {
      "display_name": "Python 3",
      "language": "python",
      "name": "python3"
    },
    "language_info": {
      "codemirror_mode": {
        "name": "ipython",
        "version": 3
      },
      "file_extension": ".py",
      "mimetype": "text/x-python",
      "name": "python",
      "nbconvert_exporter": "python",
      "pygments_lexer": "ipython3",
      "version": "3.10.11"
    },
    "colab": {
      "provenance": [],
      "include_colab_link": true
    }
  },
  "nbformat": 4,
  "nbformat_minor": 0
}