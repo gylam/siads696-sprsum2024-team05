{
  "cells": [
    {
      "cell_type": "markdown",
      "metadata": {
        "id": "view-in-github",
        "colab_type": "text"
      },
      "source": [
        "<a href=\"https://colab.research.google.com/github/gylam/siads696-sprsum2024-team05/blob/main/2_data_manipulation.ipynb\" target=\"_parent\"><img src=\"https://colab.research.google.com/assets/colab-badge.svg\" alt=\"Open In Colab\"/></a>"
      ]
    },
    {
      "cell_type": "code",
      "execution_count": null,
      "metadata": {
        "id": "Xlpt5MFN0DBN"
      },
      "outputs": [],
      "source": [
        "import pandas as pd\n",
        "from collections import Counter"
      ]
    },
    {
      "cell_type": "markdown",
      "metadata": {
        "id": "Es3s5csY0DBO"
      },
      "source": [
        "#### Read in data"
      ]
    },
    {
      "cell_type": "code",
      "execution_count": null,
      "metadata": {
        "id": "rX3faSp_0DBQ",
        "outputId": "aed09a72-8775-47b2-f2fd-95acd19b3a80"
      },
      "outputs": [
        {
          "name": "stdout",
          "output_type": "stream",
          "text": [
            "(459937, 16)\n"
          ]
        }
      ],
      "source": [
        "data_path = '..\\data\\gl_full_pickle.pickle'\n",
        "df_raw = pd.read_pickle(data_path)\n",
        "print(df_raw.shape)"
      ]
    },
    {
      "cell_type": "code",
      "execution_count": null,
      "metadata": {
        "id": "SCo8FLjj0DBR",
        "outputId": "2b82e2d8-bb9a-4584-ab15-5686b643c16e"
      },
      "outputs": [
        {
          "data": {
            "text/plain": [
              "(1135953, 16)"
            ]
          },
          "execution_count": 3,
          "metadata": {},
          "output_type": "execute_result"
        }
      ],
      "source": [
        "#explode themes\n",
        "df_raw = df_raw.explode('theme_name')\n",
        "df_raw.shape"
      ]
    },
    {
      "cell_type": "markdown",
      "metadata": {
        "id": "dQlaSfW00DBS"
      },
      "source": [
        "#### Drop unwanted report formats"
      ]
    },
    {
      "cell_type": "code",
      "execution_count": null,
      "metadata": {
        "id": "NECpu1my0DBS",
        "outputId": "b910b629-2004-40a2-c1b7-9780ae6e370f"
      },
      "outputs": [
        {
          "data": {
            "text/plain": [
              "(1072040, 16)"
            ]
          },
          "execution_count": 4,
          "metadata": {},
          "output_type": "execute_result"
        }
      ],
      "source": [
        "# drop documents with less than 100 words\n",
        "df_raw = df_raw[df_raw['word_count']>100]\n",
        "df_raw.shape"
      ]
    },
    {
      "cell_type": "code",
      "execution_count": null,
      "metadata": {
        "id": "88HgBeri0DBS",
        "outputId": "ff022dcc-9df0-4345-afb2-f6cc1ce9c4cd"
      },
      "outputs": [
        {
          "name": "stdout",
          "output_type": "stream",
          "text": [
            "(1072040, 16)\n"
          ]
        }
      ],
      "source": [
        "#drop unwanted report formats\n",
        "df_raw = df_raw[~df_raw['format'].isin(['Infographic', 'Map','Interactive'])]\n",
        "print(df_raw.shape)"
      ]
    },
    {
      "cell_type": "markdown",
      "metadata": {
        "id": "sTtcxvJv0DBS"
      },
      "source": [
        "#### Filter df by text_len"
      ]
    },
    {
      "cell_type": "code",
      "execution_count": null,
      "metadata": {
        "id": "uPtjNZCK0DBS",
        "outputId": "c8aaa825-e9f8-494e-cf20-7f42ad80fdcc"
      },
      "outputs": [
        {
          "data": {
            "text/plain": [
              "(1072040, 17)"
            ]
          },
          "execution_count": 6,
          "metadata": {},
          "output_type": "execute_result"
        }
      ],
      "source": [
        "#remove reports with less than text len < 100\n",
        "df_raw['len_text'] = df_raw['text'].str.len() #apply lambda to count words only\n",
        "df_raw = df_raw[df_raw['len_text']>100]\n",
        "df_raw.shape"
      ]
    },
    {
      "cell_type": "markdown",
      "metadata": {
        "id": "Mb4ZlbRJ0DBS"
      },
      "source": [
        "#### pickle raw data"
      ]
    },
    {
      "cell_type": "code",
      "execution_count": null,
      "metadata": {
        "id": "FyFZx8kz0DBT"
      },
      "outputs": [],
      "source": [
        "# df_raw.to_pickle('..\\data\\RW_Themes_Data_Raw_Full')"
      ]
    },
    {
      "cell_type": "markdown",
      "metadata": {
        "id": "OrsbzmSK0DBT"
      },
      "source": [
        "#### Reduce df and select fields needed"
      ]
    },
    {
      "cell_type": "code",
      "execution_count": null,
      "metadata": {
        "id": "SupZp2NS0DBT"
      },
      "outputs": [],
      "source": [
        "# keep only text and theme_name columns\n",
        "df = df_raw[['report_id', 'text', 'theme_name']]"
      ]
    },
    {
      "cell_type": "code",
      "execution_count": null,
      "metadata": {
        "id": "CgEg77GY0DBT",
        "outputId": "a8ca738c-b213-4f58-aa38-11846919a9ab"
      },
      "outputs": [
        {
          "name": "stdout",
          "output_type": "stream",
          "text": [
            "Shape of the Dataframe (multiple rows per unique report) = 1072040 rows and 3 columns\n",
            "Number of unique ReliefWeb reports retrieved = 433530\n"
          ]
        }
      ],
      "source": [
        "#checking df shape and number of reports represented\n",
        "df_shape = df.shape\n",
        "print(f'Shape of the Dataframe (multiple rows per unique report) = {df_shape[0]} rows and {df_shape[1]} columns')\n",
        "report_number = len(df['report_id'].unique())\n",
        "print(f'Number of unique ReliefWeb reports retrieved = {report_number}')\n"
      ]
    },
    {
      "cell_type": "markdown",
      "metadata": {
        "id": "EmaZkX-K0DBT"
      },
      "source": [
        "#### Reduce data to keep reports with a single label/theme"
      ]
    },
    {
      "cell_type": "code",
      "execution_count": null,
      "metadata": {
        "id": "gk89J55x0DBT",
        "outputId": "2f707612-4e4f-4845-d229-7d464af686a5"
      },
      "outputs": [
        {
          "name": "stdout",
          "output_type": "stream",
          "text": [
            "Number of reports with a single label/theme = 181469\n"
          ]
        },
        {
          "data": {
            "text/plain": [
              "theme_name\n",
              "1    181469\n",
              "Name: count, dtype: int64"
            ]
          },
          "execution_count": 9,
          "metadata": {},
          "output_type": "execute_result"
        }
      ],
      "source": [
        "## should we exclude docs with more than 3 labels? USe only docs with 1 label. Try multiclass\n",
        "# #How many themes/labels per report\n",
        "df_theme_counts = df.groupby(['report_id'])['theme_name'].size().reset_index().sort_values(by = 'theme_name', ascending = False)\n",
        "single_label_reports = df_theme_counts['report_id'][df_theme_counts['theme_name']==1]\n",
        "print(f\"Number of reports with a single label/theme = {len(single_label_reports.unique())}\")\n",
        "#filter raw_df\n",
        "single_label_data = df_raw[df_raw['report_id'].isin(single_label_reports)]\n",
        "single_label_data_theme_counts = single_label_data.groupby(['report_id'])['theme_name'].size().reset_index().sort_values(\n",
        "    by = 'theme_name', ascending = False)\n",
        "single_label_data_theme_counts['theme_name'].value_counts()\n"
      ]
    },
    {
      "cell_type": "code",
      "execution_count": null,
      "metadata": {
        "id": "giLkwn9S0DBT",
        "outputId": "ab016c86-03d0-457e-c188-1abd6fb11a88"
      },
      "outputs": [
        {
          "data": {
            "text/plain": [
              "(181469, 17)"
            ]
          },
          "execution_count": 10,
          "metadata": {},
          "output_type": "execute_result"
        }
      ],
      "source": [
        "single_label_data.shape"
      ]
    },
    {
      "cell_type": "markdown",
      "metadata": {
        "id": "wOjGCnze0DBU"
      },
      "source": [
        "#### Pickle Single Label df"
      ]
    },
    {
      "cell_type": "code",
      "execution_count": null,
      "metadata": {
        "id": "ZbcJo2060DBU"
      },
      "outputs": [],
      "source": [
        "# single_label_data.to_pickle('..\\data\\RW_Themes_Single_Label_Reports_Data')"
      ]
    },
    {
      "cell_type": "code",
      "execution_count": null,
      "metadata": {
        "id": "hVAUn_tl0DBU",
        "outputId": "bb477843-23bd-4904-f3cd-0585eb481b44"
      },
      "outputs": [
        {
          "data": {
            "text/plain": [
              "theme_name\n",
              "1     181469\n",
              "2     111728\n",
              "3      48749\n",
              "4      30300\n",
              "5      20782\n",
              "6      14991\n",
              "7      11018\n",
              "8       7203\n",
              "9       3877\n",
              "10      2073\n",
              "11       840\n",
              "12       352\n",
              "13       101\n",
              "14        44\n",
              "15         2\n",
              "16         1\n",
              "Name: count, dtype: int64"
            ]
          },
          "execution_count": 11,
          "metadata": {},
          "output_type": "execute_result"
        }
      ],
      "source": [
        "df_theme_counts['theme_name'].value_counts()"
      ]
    },
    {
      "cell_type": "markdown",
      "metadata": {
        "id": "5H8Pl5yz0DBU"
      },
      "source": [
        "#### Theme Counts\n"
      ]
    },
    {
      "cell_type": "code",
      "execution_count": null,
      "metadata": {
        "id": "9rDKh2dH0DBU"
      },
      "outputs": [],
      "source": [
        "def df_theme_counts(df, theme_cols):\n",
        "    #Count of unique themes\n",
        "    #Creating a Counter class object using list as an iterable data container\n",
        "    theme_names = df[theme_cols]\n",
        "    theme_counts = Counter(theme_names)\n",
        "\n",
        "    print(f'There are {len(theme_counts.keys())} Themes represented in this dataset.\\nThey are: \\n{list((theme_counts.keys()))}')\n",
        "    print(f'\\n')\n",
        "    print(f'Counts of each unique \"theme\" in this dataset:\\n{sorted(dict(theme_counts).items(), key = lambda x:x[1], reverse=True)}')"
      ]
    },
    {
      "cell_type": "code",
      "execution_count": null,
      "metadata": {
        "id": "W9UR8fws0DBU",
        "outputId": "ea49b9bd-81a0-4d21-b0a7-5af4c1ff349b"
      },
      "outputs": [
        {
          "name": "stdout",
          "output_type": "stream",
          "text": [
            "There are 20 Themes represented in this dataset.\n",
            "They are: \n",
            "['Agriculture', 'Disaster Management', 'Coordination', 'Peacekeeping and Peacebuilding', 'Protection and Human Rights', 'HIV/Aids', 'Education', 'Food and Nutrition', 'Mine Action', 'Camp Coordination and Camp Management', 'Contributions', 'Shelter and Non-Food Items', 'Recovery and Reconstruction', 'Health', 'Water Sanitation Hygiene', 'Safety and Security', 'Logistics and Telecommunications', 'Humanitarian Financing', 'Climate Change and Environment', 'Gender']\n",
            "\n",
            "\n",
            "Counts of each unique \"theme\" in this dataset:\n",
            "[('Protection and Human Rights', 62596), ('Health', 36493), ('Peacekeeping and Peacebuilding', 11404), ('Recovery and Reconstruction', 9524), ('Food and Nutrition', 8766), ('Shelter and Non-Food Items', 8387), ('Contributions', 7628), ('Agriculture', 6581), ('Water Sanitation Hygiene', 5306), ('Disaster Management', 5189), ('Coordination', 4755), ('Education', 4750), ('Safety and Security', 3326), ('Logistics and Telecommunications', 1876), ('Mine Action', 1593), ('Climate Change and Environment', 1039), ('HIV/Aids', 991), ('Camp Coordination and Camp Management', 666), ('Humanitarian Financing', 438), ('Gender', 161)]\n"
          ]
        }
      ],
      "source": [
        "# themes counts in single_label_data\n",
        "df_theme_counts(single_label_data, 'theme_name')"
      ]
    },
    {
      "cell_type": "code",
      "execution_count": null,
      "metadata": {
        "id": "4pkQPpUc0DBU",
        "outputId": "2b167efd-6fa9-44e4-a165-45221003a734"
      },
      "outputs": [
        {
          "name": "stdout",
          "output_type": "stream",
          "text": [
            "There are 20 Themes represented in this dataset.\n",
            "They are: \n",
            "['Agriculture', 'Disaster Management', 'Peacekeeping and Peacebuilding', 'Protection and Human Rights', 'Safety and Security', 'Coordination', 'Education', 'Health', 'Gender', 'Recovery and Reconstruction', 'HIV/Aids', 'Food and Nutrition', 'Shelter and Non-Food Items', 'Water Sanitation Hygiene', 'Logistics and Telecommunications', 'Climate Change and Environment', 'Mine Action', 'Camp Coordination and Camp Management', 'Contributions', 'Humanitarian Financing']\n",
            "\n",
            "\n",
            "Counts of each unique \"theme\" in this dataset:\n",
            "[('Protection and Human Rights', 173956), ('Health', 163359), ('Food and Nutrition', 139368), ('Water Sanitation Hygiene', 98639), ('Shelter and Non-Food Items', 91426), ('Agriculture', 65766), ('Education', 59395), ('Contributions', 53504), ('Coordination', 49565), ('Recovery and Reconstruction', 48059), ('Peacekeeping and Peacebuilding', 31008), ('Logistics and Telecommunications', 23386), ('Disaster Management', 18194), ('Safety and Security', 18121), ('Mine Action', 10393), ('Camp Coordination and Camp Management', 7645), ('Climate Change and Environment', 7494), ('Gender', 6477), ('HIV/Aids', 4443), ('Humanitarian Financing', 1842)]\n"
          ]
        }
      ],
      "source": [
        "#theme counts in multilabel data\n",
        "\n",
        "df_theme_counts(df, 'theme_name')\n"
      ]
    }
  ],
  "metadata": {
    "kernelspec": {
      "display_name": "Python 3",
      "language": "python",
      "name": "python3"
    },
    "language_info": {
      "codemirror_mode": {
        "name": "ipython",
        "version": 3
      },
      "file_extension": ".py",
      "mimetype": "text/x-python",
      "name": "python",
      "nbconvert_exporter": "python",
      "pygments_lexer": "ipython3",
      "version": "3.10.11"
    },
    "colab": {
      "provenance": [],
      "include_colab_link": true
    }
  },
  "nbformat": 4,
  "nbformat_minor": 0
}