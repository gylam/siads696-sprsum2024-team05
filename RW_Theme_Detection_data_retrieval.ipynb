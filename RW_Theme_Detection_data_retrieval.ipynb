{
  "nbformat": 4,
  "nbformat_minor": 0,
  "metadata": {
    "colab": {
      "provenance": [],
      "gpuType": "T4",
      "include_colab_link": true
    },
    "kernelspec": {
      "name": "python3",
      "display_name": "Python 3"
    },
    "language_info": {
      "name": "python"
    }
  },
  "cells": [
    {
      "cell_type": "markdown",
      "metadata": {
        "id": "view-in-github",
        "colab_type": "text"
      },
      "source": [
        "<a href=\"https://colab.research.google.com/github/gylam/siads696-sprsum2024-team05/blob/main/RW_Theme_Detection_data_retrieval.ipynb\" target=\"_parent\"><img src=\"https://colab.research.google.com/assets/colab-badge.svg\" alt=\"Open In Colab\"/></a>"
      ]
    },
    {
      "cell_type": "code",
      "execution_count": null,
      "metadata": {
        "id": "jc2b2oEVL28S"
      },
      "outputs": [],
      "source": [
        "import pandas as pd\n",
        "import numpy as np\n",
        "import requests\n",
        "import os"
      ]
    },
    {
      "cell_type": "code",
      "source": [
        "url = \"https://api.reliefweb.int/v1/reports?appname=apidoc&query[fields][]=language&query[value]=English&profile=full&limit=1\"\n",
        "response = requests.get(url)\n",
        "rw_dict = response.json()\n",
        "rw_dict['data'][0]['fields'].keys()\n"
      ],
      "metadata": {
        "id": "K6dc4gtEcmoQ",
        "colab": {
          "base_uri": "https://localhost:8080/"
        },
        "outputId": "d04dc47a-777b-4b61-e06f-0293f999f073"
      },
      "execution_count": null,
      "outputs": [
        {
          "output_type": "execute_result",
          "data": {
            "text/plain": [
              "dict_keys(['id', 'title', 'status', 'body', 'origin', 'primary_country', 'country', 'source', 'language', 'theme', 'format', 'url', 'url_alias', 'body-html', 'date'])"
            ]
          },
          "metadata": {},
          "execution_count": 2
        }
      ]
    },
    {
      "cell_type": "markdown",
      "source": [
        "### Retrieve ReliefWeb Reports - to return the required fields\n",
        "['theme_id','theme_name', 'report_id', 'title', 'text', 'url]"
      ],
      "metadata": {
        "id": "PxUI_90OmqVN"
      }
    },
    {
      "cell_type": "code",
      "source": [
        "def un_theme_data_retrievel_df(baseurl, limit, offset):\n",
        "\n",
        "  '''\n",
        "  Calls the ReliefWeb API to return the following:\n",
        "  'theme_id','theme_name', 'report_id', 'title', 'text', 'url\n",
        "\n",
        "  Returns df\n",
        "  '''\n",
        "\n",
        "  #keeping count of number of reports added to final df\n",
        "  report_number = 0\n",
        "\n",
        "  #initializing df\n",
        "  df = pd.DataFrame(columns = ['theme_id', 'theme_name', 'report_id', 'text'])\n",
        "\n",
        "  url = f'{baseurl}{limit}&offset={offset}'\n",
        "\n",
        "  number_of_API_calls = 1\n",
        "  while report_number < number_of_API_calls * int(limit):\n",
        "\n",
        "    response = requests.get(url)\n",
        "    rw_dict = response.json()\n",
        "\n",
        "    all_reports_data=[]\n",
        "    for i in np.arange(int(limit)):\n",
        "      all_reports_data.append(rw_dict['data'][i]['fields'])\n",
        "\n",
        "\n",
        "    for data in all_reports_data:\n",
        "      try:\n",
        "      # #some reports don't have a theme\n",
        "      # if 'theme' not in data.keys() and 'body' not in data.keys() and 'id' not in data.keys():\n",
        "      #   print('No Theme')\n",
        "      # else:\n",
        "        #create theme df\n",
        "        theme_id = []\n",
        "        theme_name = []\n",
        "\n",
        "        for i in data['theme']:\n",
        "          theme_id.append(list(i.values())[0])\n",
        "          theme_name.append(list(i.values())[1])\n",
        "\n",
        "        df_theme = pd.DataFrame(list(zip(theme_id, theme_name)), columns=['theme_id','theme_name'])\n",
        "\n",
        "        #add report_id to df_theme to merge df_text on later\n",
        "        id_col = []\n",
        "        for i in np.arange(len(df_theme)):\n",
        "          id_col.append(data['id'])\n",
        "        df_theme['report_id'] = id_col\n",
        "\n",
        "        #create report text df\n",
        "        report_id = [data['id']]\n",
        "        text = [data['body']]\n",
        "        title = [data['title']]\n",
        "        current_url = [list(rw_dict['links']['next'].values())[0]]\n",
        "        latitude = [data['primary_country']['location']['lat']]\n",
        "        longitude = [data['primary_country']['location']['lon']]\n",
        "        country_iso3 = [data['primary_country']['iso3']]\n",
        "        country_name = [data['primary_country']['name']]\n",
        "        date_created = [data['date']['created']]\n",
        "        source_id = [data['source'][0]['id']]\n",
        "        source_name = [data['source'][0]['name']]\n",
        "        format = [data['format'][0]['name']]\n",
        "        df_text = pd.DataFrame(list(zip(report_id, title, text, [data['url']], latitude, longitude, country_iso3,\n",
        "                                        country_name, date_created, source_id, source_name, format )),\n",
        "                               columns = ['report_id', 'title', 'text', 'url', 'latitude', 'longitude', 'country_iso3',\n",
        "                                        'country_name', 'date_created', 'source_id', 'source_name', 'format'])\n",
        "        #merge theme and text dfs\n",
        "        df_merged = df_theme.merge(df_text, how = 'right', on= 'report_id' )\n",
        "\n",
        "        #update df\n",
        "        df= pd.concat([df, df_merged])\n",
        "\n",
        "\n",
        "        #update report count\n",
        "        report_number += 1\n",
        "\n",
        "        #update url for next report API call\n",
        "        url= list(rw_dict['links']['next'].values())[0]\n",
        "\n",
        "      except:\n",
        "        #update url for next API call\n",
        "        url= list(rw_dict['links']['next'].values())[0]\n",
        "\n",
        "\n",
        "  print(f\"number of reports = {report_number}\")\n",
        "  print(url)\n",
        "\n",
        "  return df.reset_index().drop('index', axis = 1)\n",
        "\n"
      ],
      "metadata": {
        "id": "CZSOKxpOStpZ"
      },
      "execution_count": null,
      "outputs": []
    },
    {
      "cell_type": "code",
      "source": [
        "##testing the retrieval function\n",
        "\n",
        "baseurl = \"https://api.reliefweb.int/v1/reports?appname=apidoc&query[fields][]=language&query[value]=English&profile=full&limit=\"\n",
        "un_theme_data_retrievel_df(baseurl, limit = 1, offset = 0)#['theme_name'])"
      ],
      "metadata": {
        "colab": {
          "base_uri": "https://localhost:8080/",
          "height": 340
        },
        "id": "aauqPaFkl9st",
        "outputId": "b16c0332-6836-43c5-8b58-388e4c665c2a"
      },
      "execution_count": null,
      "outputs": [
        {
          "output_type": "stream",
          "name": "stdout",
          "text": [
            "number of reports = 1\n",
            "https://api.reliefweb.int/v1/reports?appname=apidoc&query%5Bfields%5D%5B0%5D=language&query%5Bvalue%5D=English&profile=full&limit=1&offset=1\n"
          ]
        },
        {
          "output_type": "execute_result",
          "data": {
            "text/plain": [
              "  theme_id          theme_name report_id  \\\n",
              "0     4587         Agriculture   3901366   \n",
              "1     4593  Food and Nutrition   3901366   \n",
              "\n",
              "                                                text  \\\n",
              "0  SG/SM/21556\\n\\nThe following statement was iss...   \n",
              "1  SG/SM/21556\\n\\nThe following statement was iss...   \n",
              "\n",
              "                                               title  \\\n",
              "0  Secretary-General Urges Renewal, Full Implemen...   \n",
              "1  Secretary-General Urges Renewal, Full Implemen...   \n",
              "\n",
              "                                  url  latitude  longitude country_iso3  \\\n",
              "0  https://reliefweb.int/node/3901366     49.32      31.32          ukr   \n",
              "1  https://reliefweb.int/node/3901366     49.32      31.32          ukr   \n",
              "\n",
              "  country_name               date_created  source_id           source_name  \\\n",
              "0      Ukraine  2022-10-29T02:49:39+00:00     1470.0  UN Secretary-General   \n",
              "1      Ukraine  2022-10-29T02:49:39+00:00     1470.0  UN Secretary-General   \n",
              "\n",
              "                   format  \n",
              "0  News and Press Release  \n",
              "1  News and Press Release  "
            ],
            "text/html": [
              "\n",
              "  <div id=\"df-3c065e07-9740-4719-a09b-7b26c5e87cd2\" class=\"colab-df-container\">\n",
              "    <div>\n",
              "<style scoped>\n",
              "    .dataframe tbody tr th:only-of-type {\n",
              "        vertical-align: middle;\n",
              "    }\n",
              "\n",
              "    .dataframe tbody tr th {\n",
              "        vertical-align: top;\n",
              "    }\n",
              "\n",
              "    .dataframe thead th {\n",
              "        text-align: right;\n",
              "    }\n",
              "</style>\n",
              "<table border=\"1\" class=\"dataframe\">\n",
              "  <thead>\n",
              "    <tr style=\"text-align: right;\">\n",
              "      <th></th>\n",
              "      <th>theme_id</th>\n",
              "      <th>theme_name</th>\n",
              "      <th>report_id</th>\n",
              "      <th>text</th>\n",
              "      <th>title</th>\n",
              "      <th>url</th>\n",
              "      <th>latitude</th>\n",
              "      <th>longitude</th>\n",
              "      <th>country_iso3</th>\n",
              "      <th>country_name</th>\n",
              "      <th>date_created</th>\n",
              "      <th>source_id</th>\n",
              "      <th>source_name</th>\n",
              "      <th>format</th>\n",
              "    </tr>\n",
              "  </thead>\n",
              "  <tbody>\n",
              "    <tr>\n",
              "      <th>0</th>\n",
              "      <td>4587</td>\n",
              "      <td>Agriculture</td>\n",
              "      <td>3901366</td>\n",
              "      <td>SG/SM/21556\\n\\nThe following statement was iss...</td>\n",
              "      <td>Secretary-General Urges Renewal, Full Implemen...</td>\n",
              "      <td>https://reliefweb.int/node/3901366</td>\n",
              "      <td>49.32</td>\n",
              "      <td>31.32</td>\n",
              "      <td>ukr</td>\n",
              "      <td>Ukraine</td>\n",
              "      <td>2022-10-29T02:49:39+00:00</td>\n",
              "      <td>1470.0</td>\n",
              "      <td>UN Secretary-General</td>\n",
              "      <td>News and Press Release</td>\n",
              "    </tr>\n",
              "    <tr>\n",
              "      <th>1</th>\n",
              "      <td>4593</td>\n",
              "      <td>Food and Nutrition</td>\n",
              "      <td>3901366</td>\n",
              "      <td>SG/SM/21556\\n\\nThe following statement was iss...</td>\n",
              "      <td>Secretary-General Urges Renewal, Full Implemen...</td>\n",
              "      <td>https://reliefweb.int/node/3901366</td>\n",
              "      <td>49.32</td>\n",
              "      <td>31.32</td>\n",
              "      <td>ukr</td>\n",
              "      <td>Ukraine</td>\n",
              "      <td>2022-10-29T02:49:39+00:00</td>\n",
              "      <td>1470.0</td>\n",
              "      <td>UN Secretary-General</td>\n",
              "      <td>News and Press Release</td>\n",
              "    </tr>\n",
              "  </tbody>\n",
              "</table>\n",
              "</div>\n",
              "    <div class=\"colab-df-buttons\">\n",
              "\n",
              "  <div class=\"colab-df-container\">\n",
              "    <button class=\"colab-df-convert\" onclick=\"convertToInteractive('df-3c065e07-9740-4719-a09b-7b26c5e87cd2')\"\n",
              "            title=\"Convert this dataframe to an interactive table.\"\n",
              "            style=\"display:none;\">\n",
              "\n",
              "  <svg xmlns=\"http://www.w3.org/2000/svg\" height=\"24px\" viewBox=\"0 -960 960 960\">\n",
              "    <path d=\"M120-120v-720h720v720H120Zm60-500h600v-160H180v160Zm220 220h160v-160H400v160Zm0 220h160v-160H400v160ZM180-400h160v-160H180v160Zm440 0h160v-160H620v160ZM180-180h160v-160H180v160Zm440 0h160v-160H620v160Z\"/>\n",
              "  </svg>\n",
              "    </button>\n",
              "\n",
              "  <style>\n",
              "    .colab-df-container {\n",
              "      display:flex;\n",
              "      gap: 12px;\n",
              "    }\n",
              "\n",
              "    .colab-df-convert {\n",
              "      background-color: #E8F0FE;\n",
              "      border: none;\n",
              "      border-radius: 50%;\n",
              "      cursor: pointer;\n",
              "      display: none;\n",
              "      fill: #1967D2;\n",
              "      height: 32px;\n",
              "      padding: 0 0 0 0;\n",
              "      width: 32px;\n",
              "    }\n",
              "\n",
              "    .colab-df-convert:hover {\n",
              "      background-color: #E2EBFA;\n",
              "      box-shadow: 0px 1px 2px rgba(60, 64, 67, 0.3), 0px 1px 3px 1px rgba(60, 64, 67, 0.15);\n",
              "      fill: #174EA6;\n",
              "    }\n",
              "\n",
              "    .colab-df-buttons div {\n",
              "      margin-bottom: 4px;\n",
              "    }\n",
              "\n",
              "    [theme=dark] .colab-df-convert {\n",
              "      background-color: #3B4455;\n",
              "      fill: #D2E3FC;\n",
              "    }\n",
              "\n",
              "    [theme=dark] .colab-df-convert:hover {\n",
              "      background-color: #434B5C;\n",
              "      box-shadow: 0px 1px 3px 1px rgba(0, 0, 0, 0.15);\n",
              "      filter: drop-shadow(0px 1px 2px rgba(0, 0, 0, 0.3));\n",
              "      fill: #FFFFFF;\n",
              "    }\n",
              "  </style>\n",
              "\n",
              "    <script>\n",
              "      const buttonEl =\n",
              "        document.querySelector('#df-3c065e07-9740-4719-a09b-7b26c5e87cd2 button.colab-df-convert');\n",
              "      buttonEl.style.display =\n",
              "        google.colab.kernel.accessAllowed ? 'block' : 'none';\n",
              "\n",
              "      async function convertToInteractive(key) {\n",
              "        const element = document.querySelector('#df-3c065e07-9740-4719-a09b-7b26c5e87cd2');\n",
              "        const dataTable =\n",
              "          await google.colab.kernel.invokeFunction('convertToInteractive',\n",
              "                                                    [key], {});\n",
              "        if (!dataTable) return;\n",
              "\n",
              "        const docLinkHtml = 'Like what you see? Visit the ' +\n",
              "          '<a target=\"_blank\" href=https://colab.research.google.com/notebooks/data_table.ipynb>data table notebook</a>'\n",
              "          + ' to learn more about interactive tables.';\n",
              "        element.innerHTML = '';\n",
              "        dataTable['output_type'] = 'display_data';\n",
              "        await google.colab.output.renderOutput(dataTable, element);\n",
              "        const docLink = document.createElement('div');\n",
              "        docLink.innerHTML = docLinkHtml;\n",
              "        element.appendChild(docLink);\n",
              "      }\n",
              "    </script>\n",
              "  </div>\n",
              "\n",
              "\n",
              "<div id=\"df-f1e42312-526e-4219-831a-3def621b4728\">\n",
              "  <button class=\"colab-df-quickchart\" onclick=\"quickchart('df-f1e42312-526e-4219-831a-3def621b4728')\"\n",
              "            title=\"Suggest charts\"\n",
              "            style=\"display:none;\">\n",
              "\n",
              "<svg xmlns=\"http://www.w3.org/2000/svg\" height=\"24px\"viewBox=\"0 0 24 24\"\n",
              "     width=\"24px\">\n",
              "    <g>\n",
              "        <path d=\"M19 3H5c-1.1 0-2 .9-2 2v14c0 1.1.9 2 2 2h14c1.1 0 2-.9 2-2V5c0-1.1-.9-2-2-2zM9 17H7v-7h2v7zm4 0h-2V7h2v10zm4 0h-2v-4h2v4z\"/>\n",
              "    </g>\n",
              "</svg>\n",
              "  </button>\n",
              "\n",
              "<style>\n",
              "  .colab-df-quickchart {\n",
              "      --bg-color: #E8F0FE;\n",
              "      --fill-color: #1967D2;\n",
              "      --hover-bg-color: #E2EBFA;\n",
              "      --hover-fill-color: #174EA6;\n",
              "      --disabled-fill-color: #AAA;\n",
              "      --disabled-bg-color: #DDD;\n",
              "  }\n",
              "\n",
              "  [theme=dark] .colab-df-quickchart {\n",
              "      --bg-color: #3B4455;\n",
              "      --fill-color: #D2E3FC;\n",
              "      --hover-bg-color: #434B5C;\n",
              "      --hover-fill-color: #FFFFFF;\n",
              "      --disabled-bg-color: #3B4455;\n",
              "      --disabled-fill-color: #666;\n",
              "  }\n",
              "\n",
              "  .colab-df-quickchart {\n",
              "    background-color: var(--bg-color);\n",
              "    border: none;\n",
              "    border-radius: 50%;\n",
              "    cursor: pointer;\n",
              "    display: none;\n",
              "    fill: var(--fill-color);\n",
              "    height: 32px;\n",
              "    padding: 0;\n",
              "    width: 32px;\n",
              "  }\n",
              "\n",
              "  .colab-df-quickchart:hover {\n",
              "    background-color: var(--hover-bg-color);\n",
              "    box-shadow: 0 1px 2px rgba(60, 64, 67, 0.3), 0 1px 3px 1px rgba(60, 64, 67, 0.15);\n",
              "    fill: var(--button-hover-fill-color);\n",
              "  }\n",
              "\n",
              "  .colab-df-quickchart-complete:disabled,\n",
              "  .colab-df-quickchart-complete:disabled:hover {\n",
              "    background-color: var(--disabled-bg-color);\n",
              "    fill: var(--disabled-fill-color);\n",
              "    box-shadow: none;\n",
              "  }\n",
              "\n",
              "  .colab-df-spinner {\n",
              "    border: 2px solid var(--fill-color);\n",
              "    border-color: transparent;\n",
              "    border-bottom-color: var(--fill-color);\n",
              "    animation:\n",
              "      spin 1s steps(1) infinite;\n",
              "  }\n",
              "\n",
              "  @keyframes spin {\n",
              "    0% {\n",
              "      border-color: transparent;\n",
              "      border-bottom-color: var(--fill-color);\n",
              "      border-left-color: var(--fill-color);\n",
              "    }\n",
              "    20% {\n",
              "      border-color: transparent;\n",
              "      border-left-color: var(--fill-color);\n",
              "      border-top-color: var(--fill-color);\n",
              "    }\n",
              "    30% {\n",
              "      border-color: transparent;\n",
              "      border-left-color: var(--fill-color);\n",
              "      border-top-color: var(--fill-color);\n",
              "      border-right-color: var(--fill-color);\n",
              "    }\n",
              "    40% {\n",
              "      border-color: transparent;\n",
              "      border-right-color: var(--fill-color);\n",
              "      border-top-color: var(--fill-color);\n",
              "    }\n",
              "    60% {\n",
              "      border-color: transparent;\n",
              "      border-right-color: var(--fill-color);\n",
              "    }\n",
              "    80% {\n",
              "      border-color: transparent;\n",
              "      border-right-color: var(--fill-color);\n",
              "      border-bottom-color: var(--fill-color);\n",
              "    }\n",
              "    90% {\n",
              "      border-color: transparent;\n",
              "      border-bottom-color: var(--fill-color);\n",
              "    }\n",
              "  }\n",
              "</style>\n",
              "\n",
              "  <script>\n",
              "    async function quickchart(key) {\n",
              "      const quickchartButtonEl =\n",
              "        document.querySelector('#' + key + ' button');\n",
              "      quickchartButtonEl.disabled = true;  // To prevent multiple clicks.\n",
              "      quickchartButtonEl.classList.add('colab-df-spinner');\n",
              "      try {\n",
              "        const charts = await google.colab.kernel.invokeFunction(\n",
              "            'suggestCharts', [key], {});\n",
              "      } catch (error) {\n",
              "        console.error('Error during call to suggestCharts:', error);\n",
              "      }\n",
              "      quickchartButtonEl.classList.remove('colab-df-spinner');\n",
              "      quickchartButtonEl.classList.add('colab-df-quickchart-complete');\n",
              "    }\n",
              "    (() => {\n",
              "      let quickchartButtonEl =\n",
              "        document.querySelector('#df-f1e42312-526e-4219-831a-3def621b4728 button');\n",
              "      quickchartButtonEl.style.display =\n",
              "        google.colab.kernel.accessAllowed ? 'block' : 'none';\n",
              "    })();\n",
              "  </script>\n",
              "</div>\n",
              "    </div>\n",
              "  </div>\n"
            ],
            "application/vnd.google.colaboratory.intrinsic+json": {
              "type": "dataframe",
              "summary": "{\n  \"name\": \"un_theme_data_retrievel_df(baseurl, limit = 1, offset = 0)#['theme_name'])\",\n  \"rows\": 2,\n  \"fields\": [\n    {\n      \"column\": \"theme_id\",\n      \"properties\": {\n        \"dtype\": \"date\",\n        \"min\": 4587,\n        \"max\": 4593,\n        \"num_unique_values\": 2,\n        \"samples\": [\n          4593,\n          4587\n        ],\n        \"semantic_type\": \"\",\n        \"description\": \"\"\n      }\n    },\n    {\n      \"column\": \"theme_name\",\n      \"properties\": {\n        \"dtype\": \"string\",\n        \"num_unique_values\": 2,\n        \"samples\": [\n          \"Food and Nutrition\",\n          \"Agriculture\"\n        ],\n        \"semantic_type\": \"\",\n        \"description\": \"\"\n      }\n    },\n    {\n      \"column\": \"report_id\",\n      \"properties\": {\n        \"dtype\": \"date\",\n        \"min\": 3901366,\n        \"max\": 3901366,\n        \"num_unique_values\": 1,\n        \"samples\": [\n          3901366\n        ],\n        \"semantic_type\": \"\",\n        \"description\": \"\"\n      }\n    },\n    {\n      \"column\": \"text\",\n      \"properties\": {\n        \"dtype\": \"string\",\n        \"num_unique_values\": 1,\n        \"samples\": [\n          \"SG/SM/21556\\n\\nThe following statement was issued today by the Spokesman for UN Secretary-General Ant\\u00f3nio Guterres:\\n\\nThe Secretary-General expresses his unwavering commitment and strong support to the renewal and full implementation of the Black Sea Grain Initiative, as well as for the full implementation of the agreement signed with the Russian Federation. Both agreements aim to ensure that grain and fertilizers from Ukraine and the Russian Federation reach global markets at the speed and price needed to avert a global food crisis and ensure food security. The United Nations continues its active and constant engagement with all parties towards that goal.\\n\\nWe underline the urgency of doing so to contribute to food security across the world, and to cushion the suffering that this global cost-of-living crisis is inflicting on billions of people. If food and fertilizers do not reach global markets now, farmers will not have fertilizers at the right time and at a price they can afford as the planting season begins, endangering crops in all regions of the world in 2023 and 2024, with dramatic effect on food production and food prices worldwide. The current crisis of affordability will turn into a crisis of availability.\\n\\nThe impact of the agreement signed in Istanbul has been clearly demonstrated. Exports of grains and other food products under the Black Sea Grain Initiative have surpassed 9 million tons, with the close monitoring and coordination of the Joint Coordination Centre, comprising representatives from the Russian Federation, T\\u00fcrkiye, Ukraine and the United Nations under the terms of the agreement. This would not have been made possible without the hard work of all representatives at the Joint Coordination Centre. We express our gratitude to T\\u00fcrkiye for hosting the Joint Coordination Centre and supporting actively its operations.\\n\\nThe resumption of exports has significantly contributed to lower prices of wheat and other commodities. The Food and Agriculture Organization (FAO) Food Index has declined for 7 months in a row. According to our estimates based on the World Bank model, the reduction of prices for staple foods has indirectly prevented some 100 million people from falling into extreme poverty.\\n\\nThe initial duration of the agreement to facilitate grains and fertilizer exports from Ukraine is 120 days and can be extended automatically on 19 November if no party objects. We urge all parties to make every effort to renew the Black Sea Grain Initiative and implement both agreements to their fullest, including the expedited removal of any remaining impediments to Russian grain and fertilizer export. \\n\\nThe United Nations is fully committed to continuing to work with all parties to ensure that we reach this goal. We do not underestimate the challenges, but we know they can be overcome.\\n\\nGovernments, shipping companies, grain and fertilizer traders and farmers all over the world are now looking for clarity on the future.\\n\\n*For information media. Not an official record.*\"\n        ],\n        \"semantic_type\": \"\",\n        \"description\": \"\"\n      }\n    },\n    {\n      \"column\": \"title\",\n      \"properties\": {\n        \"dtype\": \"string\",\n        \"num_unique_values\": 1,\n        \"samples\": [\n          \"Secretary-General Urges Renewal, Full Implementation of Black Sea Grain Initiative, Noting Resultant Food Price Drop Has Saved 100 Million People from Extreme Poverty\"\n        ],\n        \"semantic_type\": \"\",\n        \"description\": \"\"\n      }\n    },\n    {\n      \"column\": \"url\",\n      \"properties\": {\n        \"dtype\": \"string\",\n        \"num_unique_values\": 1,\n        \"samples\": [\n          \"https://reliefweb.int/node/3901366\"\n        ],\n        \"semantic_type\": \"\",\n        \"description\": \"\"\n      }\n    },\n    {\n      \"column\": \"latitude\",\n      \"properties\": {\n        \"dtype\": \"number\",\n        \"std\": 0.0,\n        \"min\": 49.32,\n        \"max\": 49.32,\n        \"num_unique_values\": 1,\n        \"samples\": [\n          49.32\n        ],\n        \"semantic_type\": \"\",\n        \"description\": \"\"\n      }\n    },\n    {\n      \"column\": \"longitude\",\n      \"properties\": {\n        \"dtype\": \"number\",\n        \"std\": 0.0,\n        \"min\": 31.32,\n        \"max\": 31.32,\n        \"num_unique_values\": 1,\n        \"samples\": [\n          31.32\n        ],\n        \"semantic_type\": \"\",\n        \"description\": \"\"\n      }\n    },\n    {\n      \"column\": \"country_iso3\",\n      \"properties\": {\n        \"dtype\": \"string\",\n        \"num_unique_values\": 1,\n        \"samples\": [\n          \"ukr\"\n        ],\n        \"semantic_type\": \"\",\n        \"description\": \"\"\n      }\n    },\n    {\n      \"column\": \"country_name\",\n      \"properties\": {\n        \"dtype\": \"string\",\n        \"num_unique_values\": 1,\n        \"samples\": [\n          \"Ukraine\"\n        ],\n        \"semantic_type\": \"\",\n        \"description\": \"\"\n      }\n    },\n    {\n      \"column\": \"date_created\",\n      \"properties\": {\n        \"dtype\": \"object\",\n        \"num_unique_values\": 1,\n        \"samples\": [\n          \"2022-10-29T02:49:39+00:00\"\n        ],\n        \"semantic_type\": \"\",\n        \"description\": \"\"\n      }\n    },\n    {\n      \"column\": \"source_id\",\n      \"properties\": {\n        \"dtype\": \"number\",\n        \"std\": 0.0,\n        \"min\": 1470.0,\n        \"max\": 1470.0,\n        \"num_unique_values\": 1,\n        \"samples\": [\n          1470.0\n        ],\n        \"semantic_type\": \"\",\n        \"description\": \"\"\n      }\n    },\n    {\n      \"column\": \"source_name\",\n      \"properties\": {\n        \"dtype\": \"string\",\n        \"num_unique_values\": 1,\n        \"samples\": [\n          \"UN Secretary-General\"\n        ],\n        \"semantic_type\": \"\",\n        \"description\": \"\"\n      }\n    },\n    {\n      \"column\": \"format\",\n      \"properties\": {\n        \"dtype\": \"string\",\n        \"num_unique_values\": 1,\n        \"samples\": [\n          \"News and Press Release\"\n        ],\n        \"semantic_type\": \"\",\n        \"description\": \"\"\n      }\n    }\n  ]\n}"
            }
          },
          "metadata": {},
          "execution_count": 4
        }
      ]
    },
    {
      "cell_type": "markdown",
      "source": [
        "### Pickle and Store data retrieved from API"
      ],
      "metadata": {
        "id": "41eU_Zd8-T3J"
      }
    },
    {
      "cell_type": "code",
      "source": [
        "#Call the data retrieval function\n",
        "#create pickle files from RW API text and 'theme' data\n",
        "#use the offset parameter to keep adding reports\n",
        "\n",
        "baseurl = \"https://api.reliefweb.int/v1/reports?appname=apidoc&query[fields][]=language&query[value]=English&profile=full&limit=\"\n",
        "\n",
        "limit = str(400)\n",
        "offset = str(0)#add 1600 to offset to grab next reports/calls\n",
        "\n",
        "for i in np.arange(4): #makes 1600 reports/calls, 400 reports at a time\n",
        "  df = un_theme_data_retrievel_df(baseurl, limit, offset)\n",
        "#   # df.to_pickle('test_untheme_pickle'+str(i))\n",
        "  df.to_pickle('/content/drive/MyDrive/Milestone II/Milestone_II_project/data/RW_UN_themes_data_pickle'+offset)\n",
        "  offset = str(int(offset) + int(limit))\n",
        "\n",
        "print(offset)\n",
        "\n",
        "# #takes about 45 secs to retrieve 4000 reports"
      ],
      "metadata": {
        "colab": {
          "base_uri": "https://localhost:8080/"
        },
        "id": "77buQQc0o5Rq",
        "outputId": "c3b6e314-7b15-43c9-a2db-c7d321cf6f25"
      },
      "execution_count": null,
      "outputs": [
        {
          "output_type": "stream",
          "name": "stdout",
          "text": [
            "number of reports = 599\n",
            "https://api.reliefweb.int/v1/reports?appname=apidoc&query%5Bfields%5D%5B0%5D=language&query%5Bvalue%5D=English&profile=full&limit=400&offset=800\n",
            "number of reports = 590\n",
            "https://api.reliefweb.int/v1/reports?appname=apidoc&query%5Bfields%5D%5B0%5D=language&query%5Bvalue%5D=English&profile=full&limit=400&offset=1200\n",
            "number of reports = 633\n",
            "https://api.reliefweb.int/v1/reports?appname=apidoc&query%5Bfields%5D%5B0%5D=language&query%5Bvalue%5D=English&profile=full&limit=400&offset=1600\n",
            "number of reports = 608\n",
            "https://api.reliefweb.int/v1/reports?appname=apidoc&query%5Bfields%5D%5B0%5D=language&query%5Bvalue%5D=English&profile=full&limit=400&offset=2000\n",
            "1600\n"
          ]
        }
      ]
    },
    {
      "cell_type": "code",
      "source": [
        "from google.colab import drive\n",
        "drive.mount('/content/drive')"
      ],
      "metadata": {
        "colab": {
          "base_uri": "https://localhost:8080/"
        },
        "id": "UuVm2mQuC34G",
        "outputId": "59ca0a4a-71f1-4e9a-da8c-438b1c3af0e3"
      },
      "execution_count": null,
      "outputs": [
        {
          "output_type": "stream",
          "name": "stdout",
          "text": [
            "Mounted at /content/drive\n"
          ]
        }
      ]
    },
    {
      "cell_type": "markdown",
      "source": [
        "### Read in the stored pickle files"
      ],
      "metadata": {
        "id": "bW9EGzP4-gjd"
      }
    },
    {
      "cell_type": "code",
      "source": [
        "df_0 = pd.read_pickle(\"/content/drive/MyDrive/Milestone II/Milestone_II_project/data/RW_UN_themes_data_pickle0\")\n",
        "print(f'The fields returned by the above API call include: \\n \\n{list(df_0.columns)}')\n"
      ],
      "metadata": {
        "id": "H69TlolNte3a",
        "colab": {
          "base_uri": "https://localhost:8080/"
        },
        "outputId": "586779f2-64c1-4cc9-9484-671cf8993ee4"
      },
      "execution_count": null,
      "outputs": [
        {
          "output_type": "stream",
          "name": "stdout",
          "text": [
            "The fields returned by the above API call include: \n",
            " \n",
            "['theme_id', 'theme_name', 'report_id', 'text', 'title', 'url', 'latitude', 'longitude', 'country_iso3', 'country_name', 'date_created', 'source_id', 'source_name', 'format']\n"
          ]
        }
      ]
    },
    {
      "cell_type": "code",
      "source": [
        "\n",
        "# Get the list of all pickle files in directory\n",
        "path = \"/content/drive/MyDrive/Milestone II/Milestone_II_project/data/\"\n",
        "dir_list = os.listdir(path)\n",
        "# prints all files\n",
        "print(f'''Files and directories in {path} :\\n{dir_list}\\n Total number of file = {len(dir_list)}''')\n"
      ],
      "metadata": {
        "colab": {
          "base_uri": "https://localhost:8080/"
        },
        "id": "SrQ4Yt-j0sdh",
        "outputId": "6e80ba14-7f67-4b97-d994-dd40905e82ef"
      },
      "execution_count": null,
      "outputs": [
        {
          "output_type": "stream",
          "name": "stdout",
          "text": [
            "Files and directories in /content/drive/MyDrive/Milestone II/Milestone_II_project/data/ :\n",
            "['RW_UN_themes_data_pickle0', 'RW_UN_themes_data_pickle400', 'RW_UN_themes_data_pickle800', 'RW_UN_themes_data_pickle1200']\n",
            " Total number of file = 4\n"
          ]
        }
      ]
    },
    {
      "cell_type": "markdown",
      "source": [
        "#### create a single df from all pickle files in directory"
      ],
      "metadata": {
        "id": "39nZ7fZx-ts2"
      }
    },
    {
      "cell_type": "code",
      "source": [
        "#Read in all pickle files in a single df\n",
        "base_path = '/content/drive/MyDrive/Milestone II/Milestone_II_project/data/'\n",
        "\n",
        "\n",
        "def read_pickles(base_path):\n",
        "  dir_list = os.listdir(base_path)\n",
        "  df = pd.DataFrame(columns =['report_id', 'title', 'text', 'url', 'latitude', 'longitude', 'country_iso3',\n",
        "                                        'country_name', 'date_created', 'source_id', 'source_name', 'format'])\n",
        "\n",
        "  for filename in dir_list:\n",
        "    path = f'{base_path}/{filename}'\n",
        "    #read content pickle content into df\n",
        "    df_new = pd.read_pickle(path)\n",
        "    #update df\n",
        "    df= pd.concat([df, df_new])\n",
        "  return df\n",
        "\n",
        "df = read_pickles(base_path)"
      ],
      "metadata": {
        "id": "ta_oU73a09Zz"
      },
      "execution_count": null,
      "outputs": []
    },
    {
      "cell_type": "code",
      "source": [
        "#checking df shape and number of reports represented\n",
        "df_shape = df.shape\n",
        "print(f'Shape of the Dataframe (multiple rows per unique report) = {df_shape[0]} rows and {df_shape[1]} columns')\n",
        "report_number = len(df['report_id'].unique())\n",
        "\n",
        "print(f'Number of unique ReliefWeb reports retrieved = {report_number}')"
      ],
      "metadata": {
        "colab": {
          "base_uri": "https://localhost:8080/"
        },
        "id": "_aVtHw8d2_Jg",
        "outputId": "a35fd7f0-85fb-4093-d8d5-5b51b2d3781e"
      },
      "execution_count": null,
      "outputs": [
        {
          "output_type": "stream",
          "name": "stdout",
          "text": [
            "Shape of the Dataframe (multiple rows per unique report) = 7388 rows and 14 columns\n",
            "Number of unique ReliefWeb reports retrieved = 1975\n"
          ]
        }
      ]
    },
    {
      "cell_type": "markdown",
      "source": [
        "#### Theme counts"
      ],
      "metadata": {
        "id": "crQ02D4e-zfA"
      }
    },
    {
      "cell_type": "code",
      "source": [
        "#Count of unique themes\n",
        "# import counter class from collections module\n",
        "from collections import Counter\n",
        "\n",
        "#Creating a Counter class object using list as an iterable data container\n",
        "theme_names = df['theme_name']\n",
        "\n",
        "theme_counts = Counter(theme_names)\n",
        "\n",
        "#printing counts\n",
        "print(f'There are {len(theme_counts.keys())} Themes represented in this dataset.\\nThey are: \\n{list((theme_counts.keys()))}')\n",
        "print(f'\\n')\n",
        "print(f'Counts of each unique \"theme\" in this dataset:\\n{dict(theme_counts)}')\n"
      ],
      "metadata": {
        "colab": {
          "base_uri": "https://localhost:8080/"
        },
        "id": "NnmIgi2uEUDe",
        "outputId": "eefc4f32-5d41-41e3-fcc9-659ac6774034"
      },
      "execution_count": null,
      "outputs": [
        {
          "output_type": "stream",
          "name": "stdout",
          "text": [
            "There are 20 Themes represented in this dataset.\n",
            "They are: \n",
            "['Education', 'Food and Nutrition', 'Health', 'Protection and Human Rights', 'Shelter and Non-Food Items', 'Water Sanitation Hygiene', 'Disaster Management', 'Mine Action', 'Peacekeeping and Peacebuilding', 'Safety and Security', 'Coordination', 'Contributions', 'Climate Change and Environment', 'Logistics and Telecommunications', 'Gender', 'Agriculture', 'Recovery and Reconstruction', 'HIV/Aids', 'Humanitarian Financing', 'Camp Coordination and Camp Management']\n",
            "\n",
            "\n",
            "Counts of each unique \"theme\" in this dataset:\n",
            "{'Education': 692, 'Food and Nutrition': 766, 'Health': 1061, 'Protection and Human Rights': 1660, 'Shelter and Non-Food Items': 354, 'Water Sanitation Hygiene': 729, 'Disaster Management': 45, 'Mine Action': 98, 'Peacekeeping and Peacebuilding': 437, 'Safety and Security': 91, 'Coordination': 341, 'Contributions': 446, 'Climate Change and Environment': 32, 'Logistics and Telecommunications': 173, 'Gender': 45, 'Agriculture': 135, 'Recovery and Reconstruction': 190, 'HIV/Aids': 74, 'Humanitarian Financing': 13, 'Camp Coordination and Camp Management': 6}\n"
          ]
        }
      ]
    },
    {
      "cell_type": "markdown",
      "source": [
        "The dataset is not balanced. The most common theme is 'Gender' and least common is 'Camp Coordination and Camp Management'"
      ],
      "metadata": {
        "id": "YgQYHVop-4co"
      }
    },
    {
      "cell_type": "markdown",
      "source": [
        "#### Balance the dataset"
      ],
      "metadata": {
        "id": "RFZoSz4Whb89"
      }
    },
    {
      "cell_type": "code",
      "source": [
        "theme_list = list(theme_counts.keys())\n",
        "row_count_per_theme = 2000\n",
        "\n",
        "def balance_dataset(df, row_count_per_theme):\n",
        "\n",
        "  df_tiny = pd.DataFrame(columns = df.columns)\n",
        "  for theme in theme_list:\n",
        "    df_new = df[df['theme_name'] == theme][:row_count_per_theme]\n",
        "    # update df_tiny\n",
        "    df_tiny= pd.concat([df_tiny, df_new])\n",
        "  return df_tiny\n",
        "\n",
        "balanced_df = balance_dataset(df, row_count_per_theme)\n",
        "balanced_df.shape"
      ],
      "metadata": {
        "colab": {
          "base_uri": "https://localhost:8080/"
        },
        "id": "Tfgsbsxh-JxL",
        "outputId": "518f761b-6685-4e14-c703-ba70d2c0aaf6"
      },
      "execution_count": null,
      "outputs": [
        {
          "output_type": "execute_result",
          "data": {
            "text/plain": [
              "(7388, 14)"
            ]
          },
          "metadata": {},
          "execution_count": 40
        }
      ]
    }
  ]
}